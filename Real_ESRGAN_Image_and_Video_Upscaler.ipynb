{
  "nbformat": 4,
  "nbformat_minor": 0,
  "metadata": {
    "colab": {
      "provenance": [],
      "collapsed_sections": [
        "6BPxh_VmVVIu"
      ],
      "include_colab_link": true
    },
    "kernelspec": {
      "name": "python3",
      "display_name": "Python 3"
    },
    "language_info": {
      "name": "python"
    },
    "accelerator": "GPU"
  },
  "cells": [
    {
      "cell_type": "markdown",
      "metadata": {
        "id": "view-in-github",
        "colab_type": "text"
      },
      "source": [
        "<a href=\"https://colab.research.google.com/github/ardha27/Real-ESRGAN-Image-Video-Upscaler/blob/main/Real_ESRGAN_Image_and_Video_Upscaler.ipynb\" target=\"_parent\"><img src=\"https://colab.research.google.com/assets/colab-badge.svg\" alt=\"Open In Colab\"/></a>"
      ]
    },
    {
      "cell_type": "code",
      "metadata": {
        "id": "GnpnrLfMV2jU"
      },
      "source": [
        "# @title\n",
        "# Clone Real-ESRGAN and enter the Real-ESRGAN\n",
        "!git clone https://github.com/xinntao/Real-ESRGAN.git\n",
        "%cd Real-ESRGAN\n",
        "# Set up the environment\n",
        "!pip install basicsr\n",
        "!pip install facexlib\n",
        "!pip install gfpgan\n",
        "!pip install ffmpeg-python\n",
        "!pip install -r requirements.txt\n",
        "!python setup.py develop\n",
        "\n",
        "from IPython.display import HTML\n",
        "from base64 import b64encode\n",
        "\n",
        "def show_video(video_path, video_width = 720):\n",
        "\n",
        "  video_file = open(video_path, \"r+b\").read()\n",
        "\n",
        "  video_url = f\"data:video/mp4;base64,{b64encode(video_file).decode()}\"\n",
        "  return HTML(f\"\"\"<video width={video_width} controls><source src=\"{video_url}\"></video>\"\"\")"
      ],
      "execution_count": null,
      "outputs": []
    },
    {
      "cell_type": "code",
      "source": [
        "import os\n",
        "\n",
        "source = \"image\" # @param [\"image\", \"video\"]\n",
        "input = \"/content/Real-ESRGAN/inputs/0030.jpg\" # @param {type:\"string\"}\n",
        "model = \"RealESRGAN_x4plus_anime_6B\" # @param [\"RealESRGAN_x4plus\", \"RealESRGAN_x2plus\", \"RealESRNet_x4plus\", \"official ESRGAN_x4\", \"realesr-general-x4v3\", \"RealESRGAN_x4plus_anime_6B\", \"realesr-animevideov3\"]\n",
        "scale = 4 # @param {type:\"slider\", min:1, max:4, step:1}\n",
        "face_enhance = False # @param {type:\"boolean\"}\n",
        "\n",
        "\n",
        "if source==\"image\":\n",
        "  code = \"inference_realesrgan.py\"\n",
        "elif source ==\"video\":\n",
        "  code = \"inference_realesrgan_video.py\"\n",
        "\n",
        "def generate_output_path(input_path):\n",
        "    # Get the directory from the input path\n",
        "    directory, _ = os.path.split(input_path)\n",
        "\n",
        "    return directory\n",
        "\n",
        "def generate_result_path(input_path):\n",
        "    # Extract the directory and filename from the input path\n",
        "    directory, filename = os.path.split(input_path)\n",
        "\n",
        "    # Remove the extension from the filename\n",
        "    filename_without_extension, extension = os.path.splitext(filename)\n",
        "\n",
        "    # Create the output path by adding '_out' before the extension\n",
        "    output_filename = filename_without_extension + \"_out\" + extension\n",
        "    output_path = os.path.join(directory, output_filename)\n",
        "\n",
        "    return output_path\n",
        "\n",
        "output = generate_output_path(input)\n",
        "result = generate_result_path(input)\n",
        "print(output)\n",
        "print(result)"
      ],
      "metadata": {
        "id": "aRJcSYVwvl2V"
      },
      "execution_count": null,
      "outputs": []
    },
    {
      "cell_type": "code",
      "source": [
        "if face_enhance == True:\n",
        "  command = f\"python '{code}' -i '{input}' -n '{model}' -o '{output}' -s '{scale}' --face_enhance\"\n",
        "elif face_enhance == False:\n",
        "  command = f\"python '{code}' -i '{input}' -n '{model}' -o '{output}' -s '{scale}'\"\n",
        "!{command}\n",
        "# -h                   show this help\n",
        "# -i input-path        input image path (jpg/png/webp) or directory\n",
        "# -o output-path       output image path (jpg/png/webp) or directory\n",
        "# -s scale             upscale ratio (can be 2, 3, 4. default=4)\n",
        "# -t tile-size         tile size (>=32/0=auto, default=0) can be 0,0,0 for multi-gpu\n",
        "# -m model-path        folder path to the pre-trained models. default=models\n",
        "# -n model-name        model name (default=realesr-animevideov3, can be realesr-animevideov3 | realesrgan-x4plus | realesrgan-x4plus-anime | realesrnet-x4plus)\n",
        "# -g gpu-id            gpu device to use (default=auto) can be 0,1,2 for multi-gpu\n",
        "# -j load:proc:save    thread count for load/proc/save (default=1:2:2) can be 1:2,2,2:2 for multi-gpu\n",
        "# -x                   enable tta mode\"\n",
        "# -f format            output image format (jpg/png/webp, default=ext/png)\n",
        "# -v                   verbose output"
      ],
      "metadata": {
        "id": "P1Lu7mqgodae"
      },
      "execution_count": null,
      "outputs": []
    },
    {
      "cell_type": "code",
      "source": [
        "# input video\n",
        "show_video(input)"
      ],
      "metadata": {
        "id": "_puouBvsyUrk"
      },
      "execution_count": null,
      "outputs": []
    },
    {
      "cell_type": "code",
      "source": [
        "# enhanced video\n",
        "show_video(result)"
      ],
      "metadata": {
        "id": "ISJwZ1dWymVu"
      },
      "execution_count": null,
      "outputs": []
    },
    {
      "cell_type": "code",
      "source": [
        "from IPython.display import Image, display\n",
        "\n",
        "display(Image(filename=input, width=720))\n",
        "display(Image(filename=result, width=720))"
      ],
      "metadata": {
        "id": "hjqL32M85qIT"
      },
      "execution_count": null,
      "outputs": []
    }
  ]
}